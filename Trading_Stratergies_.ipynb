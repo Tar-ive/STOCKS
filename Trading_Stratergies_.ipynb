{
  "nbformat": 4,
  "nbformat_minor": 0,
  "metadata": {
    "colab": {
      "provenance": [],
      "include_colab_link": true
    },
    "kernelspec": {
      "name": "python3",
      "display_name": "Python 3"
    },
    "language_info": {
      "name": "python"
    }
  },
  "cells": [
    {
      "cell_type": "markdown",
      "metadata": {
        "id": "view-in-github",
        "colab_type": "text"
      },
      "source": [
        "<a href=\"https://colab.research.google.com/github/Tar-ive/STOCKS/blob/code/Trading_Stratergies_.ipynb\" target=\"_parent\"><img src=\"https://colab.research.google.com/assets/colab-badge.svg\" alt=\"Open In Colab\"/></a>"
      ]
    },
    {
      "cell_type": "markdown",
      "source": [
        "Copyright © [2024] [Saksham Adhikari]\n",
        "All rights reserved."
      ],
      "metadata": {
        "id": "V-OHM8s8qPzC"
      }
    },
    {
      "cell_type": "code",
      "execution_count": 1,
      "metadata": {
        "colab": {
          "base_uri": "https://localhost:8080/"
        },
        "id": "hgaQbIaZUPd-",
        "outputId": "dfbe125e-e99f-4624-8bef-b6c1094003c5"
      },
      "outputs": [
        {
          "output_type": "stream",
          "name": "stdout",
          "text": [
            "Requirement already satisfied: yfinance in /usr/local/lib/python3.10/dist-packages (0.2.37)\n",
            "Requirement already satisfied: pandas>=1.3.0 in /usr/local/lib/python3.10/dist-packages (from yfinance) (1.5.3)\n",
            "Requirement already satisfied: numpy>=1.16.5 in /usr/local/lib/python3.10/dist-packages (from yfinance) (1.25.2)\n",
            "Requirement already satisfied: requests>=2.31 in /usr/local/lib/python3.10/dist-packages (from yfinance) (2.31.0)\n",
            "Requirement already satisfied: multitasking>=0.0.7 in /usr/local/lib/python3.10/dist-packages (from yfinance) (0.0.11)\n",
            "Requirement already satisfied: lxml>=4.9.1 in /usr/local/lib/python3.10/dist-packages (from yfinance) (4.9.4)\n",
            "Requirement already satisfied: appdirs>=1.4.4 in /usr/local/lib/python3.10/dist-packages (from yfinance) (1.4.4)\n",
            "Requirement already satisfied: pytz>=2022.5 in /usr/local/lib/python3.10/dist-packages (from yfinance) (2023.4)\n",
            "Requirement already satisfied: frozendict>=2.3.4 in /usr/local/lib/python3.10/dist-packages (from yfinance) (2.4.0)\n",
            "Requirement already satisfied: peewee>=3.16.2 in /usr/local/lib/python3.10/dist-packages (from yfinance) (3.17.1)\n",
            "Requirement already satisfied: beautifulsoup4>=4.11.1 in /usr/local/lib/python3.10/dist-packages (from yfinance) (4.12.3)\n",
            "Requirement already satisfied: html5lib>=1.1 in /usr/local/lib/python3.10/dist-packages (from yfinance) (1.1)\n",
            "Requirement already satisfied: soupsieve>1.2 in /usr/local/lib/python3.10/dist-packages (from beautifulsoup4>=4.11.1->yfinance) (2.5)\n",
            "Requirement already satisfied: six>=1.9 in /usr/local/lib/python3.10/dist-packages (from html5lib>=1.1->yfinance) (1.16.0)\n",
            "Requirement already satisfied: webencodings in /usr/local/lib/python3.10/dist-packages (from html5lib>=1.1->yfinance) (0.5.1)\n",
            "Requirement already satisfied: python-dateutil>=2.8.1 in /usr/local/lib/python3.10/dist-packages (from pandas>=1.3.0->yfinance) (2.8.2)\n",
            "Requirement already satisfied: charset-normalizer<4,>=2 in /usr/local/lib/python3.10/dist-packages (from requests>=2.31->yfinance) (3.3.2)\n",
            "Requirement already satisfied: idna<4,>=2.5 in /usr/local/lib/python3.10/dist-packages (from requests>=2.31->yfinance) (3.6)\n",
            "Requirement already satisfied: urllib3<3,>=1.21.1 in /usr/local/lib/python3.10/dist-packages (from requests>=2.31->yfinance) (2.0.7)\n",
            "Requirement already satisfied: certifi>=2017.4.17 in /usr/local/lib/python3.10/dist-packages (from requests>=2.31->yfinance) (2024.2.2)\n"
          ]
        }
      ],
      "source": [
        "!pip install yfinance"
      ]
    },
    {
      "cell_type": "code",
      "source": [
        "!pip install quantstats"
      ],
      "metadata": {
        "colab": {
          "base_uri": "https://localhost:8080/"
        },
        "id": "ftYHChLXUih5",
        "outputId": "1f40ba8c-537f-4373-c3ca-7140c292ed63"
      },
      "execution_count": 2,
      "outputs": [
        {
          "output_type": "stream",
          "name": "stdout",
          "text": [
            "Collecting quantstats\n",
            "  Downloading QuantStats-0.0.62-py2.py3-none-any.whl (45 kB)\n",
            "\u001b[2K     \u001b[90m━━━━━━━━━━━━━━━━━━━━━━━━━━━━━━━━━━━━━━━━\u001b[0m \u001b[32m45.5/45.5 kB\u001b[0m \u001b[31m740.3 kB/s\u001b[0m eta \u001b[36m0:00:00\u001b[0m\n",
            "\u001b[?25hRequirement already satisfied: pandas>=0.24.0 in /usr/local/lib/python3.10/dist-packages (from quantstats) (1.5.3)\n",
            "Requirement already satisfied: numpy>=1.16.5 in /usr/local/lib/python3.10/dist-packages (from quantstats) (1.25.2)\n",
            "Requirement already satisfied: seaborn>=0.9.0 in /usr/local/lib/python3.10/dist-packages (from quantstats) (0.13.1)\n",
            "Requirement already satisfied: matplotlib>=3.0.0 in /usr/local/lib/python3.10/dist-packages (from quantstats) (3.7.1)\n",
            "Requirement already satisfied: scipy>=1.2.0 in /usr/local/lib/python3.10/dist-packages (from quantstats) (1.11.4)\n",
            "Requirement already satisfied: tabulate>=0.8.0 in /usr/local/lib/python3.10/dist-packages (from quantstats) (0.9.0)\n",
            "Requirement already satisfied: yfinance>=0.1.70 in /usr/local/lib/python3.10/dist-packages (from quantstats) (0.2.37)\n",
            "Requirement already satisfied: python-dateutil>=2.0 in /usr/local/lib/python3.10/dist-packages (from quantstats) (2.8.2)\n",
            "Requirement already satisfied: contourpy>=1.0.1 in /usr/local/lib/python3.10/dist-packages (from matplotlib>=3.0.0->quantstats) (1.2.0)\n",
            "Requirement already satisfied: cycler>=0.10 in /usr/local/lib/python3.10/dist-packages (from matplotlib>=3.0.0->quantstats) (0.12.1)\n",
            "Requirement already satisfied: fonttools>=4.22.0 in /usr/local/lib/python3.10/dist-packages (from matplotlib>=3.0.0->quantstats) (4.49.0)\n",
            "Requirement already satisfied: kiwisolver>=1.0.1 in /usr/local/lib/python3.10/dist-packages (from matplotlib>=3.0.0->quantstats) (1.4.5)\n",
            "Requirement already satisfied: packaging>=20.0 in /usr/local/lib/python3.10/dist-packages (from matplotlib>=3.0.0->quantstats) (24.0)\n",
            "Requirement already satisfied: pillow>=6.2.0 in /usr/local/lib/python3.10/dist-packages (from matplotlib>=3.0.0->quantstats) (9.4.0)\n",
            "Requirement already satisfied: pyparsing>=2.3.1 in /usr/local/lib/python3.10/dist-packages (from matplotlib>=3.0.0->quantstats) (3.1.2)\n",
            "Requirement already satisfied: pytz>=2020.1 in /usr/local/lib/python3.10/dist-packages (from pandas>=0.24.0->quantstats) (2023.4)\n",
            "Requirement already satisfied: six>=1.5 in /usr/local/lib/python3.10/dist-packages (from python-dateutil>=2.0->quantstats) (1.16.0)\n",
            "Requirement already satisfied: requests>=2.31 in /usr/local/lib/python3.10/dist-packages (from yfinance>=0.1.70->quantstats) (2.31.0)\n",
            "Requirement already satisfied: multitasking>=0.0.7 in /usr/local/lib/python3.10/dist-packages (from yfinance>=0.1.70->quantstats) (0.0.11)\n",
            "Requirement already satisfied: lxml>=4.9.1 in /usr/local/lib/python3.10/dist-packages (from yfinance>=0.1.70->quantstats) (4.9.4)\n",
            "Requirement already satisfied: appdirs>=1.4.4 in /usr/local/lib/python3.10/dist-packages (from yfinance>=0.1.70->quantstats) (1.4.4)\n",
            "Requirement already satisfied: frozendict>=2.3.4 in /usr/local/lib/python3.10/dist-packages (from yfinance>=0.1.70->quantstats) (2.4.0)\n",
            "Requirement already satisfied: peewee>=3.16.2 in /usr/local/lib/python3.10/dist-packages (from yfinance>=0.1.70->quantstats) (3.17.1)\n",
            "Requirement already satisfied: beautifulsoup4>=4.11.1 in /usr/local/lib/python3.10/dist-packages (from yfinance>=0.1.70->quantstats) (4.12.3)\n",
            "Requirement already satisfied: html5lib>=1.1 in /usr/local/lib/python3.10/dist-packages (from yfinance>=0.1.70->quantstats) (1.1)\n",
            "Requirement already satisfied: soupsieve>1.2 in /usr/local/lib/python3.10/dist-packages (from beautifulsoup4>=4.11.1->yfinance>=0.1.70->quantstats) (2.5)\n",
            "Requirement already satisfied: webencodings in /usr/local/lib/python3.10/dist-packages (from html5lib>=1.1->yfinance>=0.1.70->quantstats) (0.5.1)\n",
            "Requirement already satisfied: charset-normalizer<4,>=2 in /usr/local/lib/python3.10/dist-packages (from requests>=2.31->yfinance>=0.1.70->quantstats) (3.3.2)\n",
            "Requirement already satisfied: idna<4,>=2.5 in /usr/local/lib/python3.10/dist-packages (from requests>=2.31->yfinance>=0.1.70->quantstats) (3.6)\n",
            "Requirement already satisfied: urllib3<3,>=1.21.1 in /usr/local/lib/python3.10/dist-packages (from requests>=2.31->yfinance>=0.1.70->quantstats) (2.0.7)\n",
            "Requirement already satisfied: certifi>=2017.4.17 in /usr/local/lib/python3.10/dist-packages (from requests>=2.31->yfinance>=0.1.70->quantstats) (2024.2.2)\n",
            "Installing collected packages: quantstats\n",
            "Successfully installed quantstats-0.0.62\n"
          ]
        }
      ]
    },
    {
      "cell_type": "code",
      "source": [
        "!pip install pyportfolioopt"
      ],
      "metadata": {
        "colab": {
          "base_uri": "https://localhost:8080/"
        },
        "id": "dRLHrpHNUnEY",
        "outputId": "a5eba406-b4f8-4fe8-d8cc-0bd705d314ea"
      },
      "execution_count": 3,
      "outputs": [
        {
          "output_type": "stream",
          "name": "stdout",
          "text": [
            "Collecting pyportfolioopt\n",
            "  Downloading pyportfolioopt-1.5.5-py3-none-any.whl (61 kB)\n",
            "\u001b[?25l     \u001b[90m━━━━━━━━━━━━━━━━━━━━━━━━━━━━━━━━━━━━━━━━\u001b[0m \u001b[32m0.0/61.9 kB\u001b[0m \u001b[31m?\u001b[0m eta \u001b[36m-:--:--\u001b[0m\r\u001b[2K     \u001b[91m━━━━━━━━━━━━━━━━━━━\u001b[0m\u001b[91m╸\u001b[0m\u001b[90m━━━━━━━━━━━━━━━━━━━━\u001b[0m \u001b[32m30.7/61.9 kB\u001b[0m \u001b[31m1.1 MB/s\u001b[0m eta \u001b[36m0:00:01\u001b[0m\r\u001b[2K     \u001b[90m━━━━━━━━━━━━━━━━━━━━━━━━━━━━━━━━━━━━━━━━\u001b[0m \u001b[32m61.9/61.9 kB\u001b[0m \u001b[31m965.7 kB/s\u001b[0m eta \u001b[36m0:00:00\u001b[0m\n",
            "\u001b[?25hRequirement already satisfied: cvxpy<2.0.0,>=1.1.19 in /usr/local/lib/python3.10/dist-packages (from pyportfolioopt) (1.3.3)\n",
            "Requirement already satisfied: numpy<2.0.0,>=1.22.4 in /usr/local/lib/python3.10/dist-packages (from pyportfolioopt) (1.25.2)\n",
            "Requirement already satisfied: pandas>=0.19 in /usr/local/lib/python3.10/dist-packages (from pyportfolioopt) (1.5.3)\n",
            "Requirement already satisfied: scipy<2.0,>=1.3 in /usr/local/lib/python3.10/dist-packages (from pyportfolioopt) (1.11.4)\n",
            "Requirement already satisfied: osqp>=0.4.1 in /usr/local/lib/python3.10/dist-packages (from cvxpy<2.0.0,>=1.1.19->pyportfolioopt) (0.6.2.post8)\n",
            "Requirement already satisfied: ecos>=2 in /usr/local/lib/python3.10/dist-packages (from cvxpy<2.0.0,>=1.1.19->pyportfolioopt) (2.0.13)\n",
            "Requirement already satisfied: scs>=1.1.6 in /usr/local/lib/python3.10/dist-packages (from cvxpy<2.0.0,>=1.1.19->pyportfolioopt) (3.2.4.post1)\n",
            "Requirement already satisfied: setuptools>65.5.1 in /usr/local/lib/python3.10/dist-packages (from cvxpy<2.0.0,>=1.1.19->pyportfolioopt) (67.7.2)\n",
            "Requirement already satisfied: python-dateutil>=2.8.1 in /usr/local/lib/python3.10/dist-packages (from pandas>=0.19->pyportfolioopt) (2.8.2)\n",
            "Requirement already satisfied: pytz>=2020.1 in /usr/local/lib/python3.10/dist-packages (from pandas>=0.19->pyportfolioopt) (2023.4)\n",
            "Requirement already satisfied: qdldl in /usr/local/lib/python3.10/dist-packages (from osqp>=0.4.1->cvxpy<2.0.0,>=1.1.19->pyportfolioopt) (0.1.7.post0)\n",
            "Requirement already satisfied: six>=1.5 in /usr/local/lib/python3.10/dist-packages (from python-dateutil>=2.8.1->pandas>=0.19->pyportfolioopt) (1.16.0)\n",
            "Installing collected packages: pyportfolioopt\n",
            "Successfully installed pyportfolioopt-1.5.5\n"
          ]
        }
      ]
    },
    {
      "cell_type": "code",
      "source": [
        "!pip install ta\n"
      ],
      "metadata": {
        "colab": {
          "base_uri": "https://localhost:8080/"
        },
        "id": "Ic9IUkOtUrMS",
        "outputId": "203cfc22-ece0-412b-85a3-19f7dbccab14"
      },
      "execution_count": null,
      "outputs": [
        {
          "output_type": "stream",
          "name": "stdout",
          "text": [
            "Collecting ta\n",
            "  Downloading ta-0.11.0.tar.gz (25 kB)\n",
            "  Preparing metadata (setup.py) ... \u001b[?25l\u001b[?25hdone\n",
            "Requirement already satisfied: numpy in /usr/local/lib/python3.10/dist-packages (from ta) (1.25.2)\n",
            "Requirement already satisfied: pandas in /usr/local/lib/python3.10/dist-packages (from ta) (1.5.3)\n",
            "Requirement already satisfied: python-dateutil>=2.8.1 in /usr/local/lib/python3.10/dist-packages (from pandas->ta) (2.8.2)\n",
            "Requirement already satisfied: pytz>=2020.1 in /usr/local/lib/python3.10/dist-packages (from pandas->ta) (2023.4)\n",
            "Requirement already satisfied: six>=1.5 in /usr/local/lib/python3.10/dist-packages (from python-dateutil>=2.8.1->pandas->ta) (1.16.0)\n",
            "Building wheels for collected packages: ta\n",
            "  Building wheel for ta (setup.py) ... \u001b[?25l\u001b[?25hdone\n",
            "  Created wheel for ta: filename=ta-0.11.0-py3-none-any.whl size=29411 sha256=1d0b5bc4ab52713ce33ad72cd539c27b8223a9535ba2269fbcfcc9763384af6a\n",
            "  Stored in directory: /root/.cache/pip/wheels/5f/67/4f/8a9f252836e053e532c6587a3230bc72a4deb16b03a829610b\n",
            "Successfully built ta\n"
          ]
        }
      ]
    },
    {
      "cell_type": "code",
      "source": [
        "end_date = dt.datetime.now() # Defining the datetime for March 21st\n",
        "start_date = end_date - dt.timedelta(days=729) # Loading hourly data for the last 729 days\n",
        "\n",
        "hourly_nvda = yf.download('NVDA', start=start_date, end=end_date, interval='1h')\n",
        "hourly_nvda"
      ],
      "metadata": {
        "id": "st37gp6EsT7X"
      },
      "execution_count": null,
      "outputs": []
    },
    {
      "cell_type": "code",
      "source": [
        "hourly_nvda['rsi'] = ta.momentum.RSIIndicator(hourly_nvda['Adj Close'], window = 14).rsi()\n",
        "hourly_nvda"
      ],
      "metadata": {
        "id": "-BvBOR0nszWY"
      },
      "execution_count": null,
      "outputs": []
    },
    {
      "cell_type": "code",
      "source": [
        "fig = make_subplots(rows=2, cols=1, shared_xaxes=True, vertical_spacing=0.05,row_heights=[0.7, 0.3])\n",
        "fig.add_trace(go.Candlestick(x=hourly_nvda.index,\n",
        "                             open=hourly_nvda['Open'],\n",
        "                             high=hourly_nvda['High'],\n",
        "                             low=hourly_nvda['Low'],\n",
        "                             close=hourly_nvda['Adj Close'],\n",
        "                             name='NVDA'), row=1, col=1)\n",
        "\n",
        "# Adding annotation\n",
        "fig.add_annotation(text='NVDA 1HR',\n",
        "                    font=dict(color='white', size=40),\n",
        "                    xref='paper', yref='paper',\n",
        "                    x=0.5, y=0.65,\n",
        "                    showarrow=False,\n",
        "                    opacity=0.2)\n",
        "\n",
        "fig.add_trace(go.Scatter(x=hourly_nvda.index,\n",
        "                         y=hourly_nvda['rsi'],\n",
        "                         mode='lines',\n",
        "                         line=dict(color='#CBC3E3'),\n",
        "                         name='RSI'),\n",
        "              row=2, col=1)\n",
        "\n",
        "\n",
        "# Adding marking lines at 70 and 30 levels\n",
        "fig.add_shape(type=\"line\",\n",
        "              x0=hourly_nvda.index[0], y0=70, x1=hourly_nvda.index[-1], y1=70,\n",
        "              line=dict(color=\"red\", width=2, dash=\"dot\"),\n",
        "              row=2, col=1)\n",
        "fig.add_shape(type=\"line\",\n",
        "              x0=hourly_nvda.index[0], y0=30, x1=hourly_nvda.index[-1], y1=30,\n",
        "              line=dict(color=\"#90EE90\", width=2, dash=\"dot\"),\n",
        "              row=2, col=1)\n",
        "\n",
        "# Layout\n",
        "fig.update_layout(title='NVDA Hourly Candlestick Chart from 2022 to 2024',\n",
        "                  yaxis=dict(title='Price'),\n",
        "                  height=1000,\n",
        "                 template = 'plotly_dark')\n",
        "\n",
        "# Configuring subplots\n",
        "fig.update_xaxes(rangeslider_visible=False)\n",
        "fig.update_yaxes(title_text='Price', row = 1)\n",
        "fig.update_yaxes(title_text='RSI', row = 2)\n",
        "\n",
        "fig.show()\n",
        "fig.write_html(\"nvda_hourly1.html\")"
      ],
      "metadata": {
        "id": "0Yrf7JgFs_n4"
      },
      "execution_count": null,
      "outputs": []
    },
    {
      "cell_type": "code",
      "source": [
        "# Defining the parameters for the RSI strategy\n",
        "rsi_period = 14\n",
        "overbought = 70\n",
        "oversold = 30\n",
        "\n",
        "# Creating a new column to hold the signals\n",
        "hourly_nvda['signal'] = 0 # When we're not positioned, 'signal' = 0\n",
        "\n",
        "# Generating the entries\n",
        "for i in range(rsi_period, len(hourly_nvda)):\n",
        "    if hourly_nvda['rsi'][i] > overbought and hourly_nvda['rsi'][i - 1] <= overbought:\n",
        "        hourly_nvda['signal'][i] = -1 # We sell when 'signal' = -1\n",
        "    elif hourly_nvda['rsi'][i] < oversold and hourly_nvda['rsi'][i - 1] >= oversold:\n",
        "        hourly_nvda['signal'][i] = 1 # We buy when 'signal' = 1\n",
        "\n",
        "# Calculating the pair's daily returns\n",
        "hourly_nvda['returns'] = hourly_nvda['Adj Close'].pct_change()\n",
        "hourly_nvda['cumulative_returns'] = (1 + hourly_nvda['returns']).cumprod() - 1 # Total returns of the period\n",
        "\n",
        "# Applying the signals to the returns\n",
        "hourly_nvda['strategy_returns'] = hourly_nvda['signal'].shift(1) * hourly_nvda['returns']\n",
        "\n",
        "# Calculating the cumulative returns of the strategy\n",
        "hourly_nvda['cumulative_strategy_returns'] = (1 + hourly_nvda['strategy_returns']).cumprod() - 1\n",
        "\n",
        "# Setting the initial capital to $100\n",
        "initial_capital = 100\n",
        "\n",
        "# Calculating total portfolio value\n",
        "hourly_nvda['portfolio_value'] = (1 + hourly_nvda['strategy_returns']).cumprod() * initial_capital\n",
        "\n",
        "# Printing the number of trades, initial capital, and final capital\n",
        "num_trades = hourly_nvda['signal'].abs().sum()\n",
        "final_capital = hourly_nvda['portfolio_value'].iloc[-1]\n",
        "total_return = (final_capital - initial_capital) / initial_capital * 100\n",
        "\n",
        "print('\\n')\n",
        "print(f\"Number of trades: {num_trades}\")\n",
        "print(f\"Initial capital: ${initial_capital}\")\n",
        "print(f\"Final capital: ${final_capital:.2f}\")\n",
        "print(f\"Total return: {total_return:.2f}%\")\n",
        "print('\\n')\n",
        "\n",
        "# Plotting the portfolio total value\n",
        "fig = go.Figure()\n",
        "\n",
        "fig.add_trace(go.Scatter(x=hourly_nvda.index,\n",
        "                         y=hourly_nvda['portfolio_value'].round(2),\n",
        "                         mode='lines',\n",
        "                         line=dict(color='#00BFFF'),\n",
        "                         name='Portfolio Value'))\n",
        "\n",
        "fig.update_layout(title='Portfolio - RSI Strategy on Hourly Data',\n",
        "                  xaxis_title='Date',\n",
        "                  yaxis_title='Value ($)',\n",
        "                  template='plotly_dark',\n",
        "                 height = 600)\n",
        "\n",
        "fig.show()\n",
        "fig.write_html(\"nvda_rsi.html\")"
      ],
      "metadata": {
        "id": "5xu-5zqktlZg"
      },
      "execution_count": null,
      "outputs": []
    },
    {
      "cell_type": "code",
      "source": [
        "#MACD Strategy\n",
        "hourly_nvda['ema12'] = hourly_nvda['Adj Close'].ewm(span=12, adjust=False).mean()\n",
        "hourly_nvda['ema26'] = hourly_nvda['Adj Close'].ewm(span=26, adjust=False).mean()\n",
        "hourly_nvda['macd'] = hourly_nvda['ema12'] - hourly_nvda['ema26']\n",
        "# Signal Line = 9-period EMA of MACD Line\n",
        "hourly_nvda['signal_line'] = hourly_nvda['macd'].ewm(span=9, adjust=False).mean()\n",
        "\n",
        "# Create a column for the trading signal\n",
        "hourly_nvda['signal'] = 0\n",
        "# Buy signal (MACD crosses above Signal Line)\n",
        "hourly_nvda.loc[(hourly_nvda['macd'] > hourly_nvda['signal_line']) &\n",
        "                (hourly_nvda['macd'].shift(1) <= hourly_nvda['signal_line'].shift(1)), 'signal'] = 1\n",
        "# Sell signal (MACD crosses below Signal Line)\n",
        "hourly_nvda.loc[(hourly_nvda['macd'] < hourly_nvda['signal_line']) &\n",
        "                (hourly_nvda['macd'].shift(1) >= hourly_nvda['signal_line'].shift(1)), 'signal'] = -1\n",
        "\n",
        "# Calculate returns, similar to your RSI strategy\n",
        "hourly_nvda['returns'] = hourly_nvda['Adj Close'].pct_change()\n",
        "hourly_nvda['strategy_returns'] = hourly_nvda['signal'].shift(1) * hourly_nvda['returns']\n",
        "hourly_nvda['cumulative_strategy_returns'] = (1 + hourly_nvda['strategy_returns']).cumprod() - 1\n",
        "\n",
        "# Initial capital to start with\n",
        "initial_capital = 100\n",
        "\n",
        "# Calculate portfolio value over time\n",
        "hourly_nvda['portfolio_value'] = (1 + hourly_nvda['strategy_returns']).cumprod() * initial_capital\n",
        "\n",
        "# Print performance summary\n",
        "num_trades = hourly_nvda['signal'].abs().sum()\n",
        "final_capital = hourly_nvda['portfolio_value'].iloc[-1]\n",
        "total_return = (final_capital - initial_capital) / initial_capital * 100\n",
        "\n",
        "print(f\"Number of trades: {num_trades}\")\n",
        "print(f\"Initial capital: ${initial_capital}\")\n",
        "print(f\"Final capital: ${final_capital:.2f}\")\n",
        "print(f\"Total return: {total_return:.2f}%\")"
      ],
      "metadata": {
        "id": "_quXP9PevyE7"
      },
      "execution_count": null,
      "outputs": []
    },
    {
      "cell_type": "code",
      "source": [
        "#Bollinger Bands Stratergy\n",
        "period = 20\n",
        "std_dev_multiplier = 2\n",
        "\n",
        "# Calculate Simple Moving Average (SMA)\n",
        "hourly_nvda['SMA'] = hourly_nvda['Adj Close'].rolling(window=period).mean()\n",
        "\n",
        "# Calculate Standard Deviation\n",
        "hourly_nvda['std_dev'] = hourly_nvda['Adj Close'].rolling(window=period).std()\n",
        "\n",
        "# Calculate Upper and Lower Bollinger Bands\n",
        "hourly_nvda['upper_band'] = hourly_nvda['SMA'] + (hourly_nvda['std_dev'] * std_dev_multiplier)\n",
        "hourly_nvda['lower_band'] = hourly_nvda['SMA'] - (hourly_nvda['std_dev'] * std_dev_multiplier)\n",
        "\n",
        "# Generate signals: buy when the price crosses above the lower band, sell when below the upper band\n",
        "hourly_nvda['signal'] = 0\n",
        "hourly_nvda.loc[hourly_nvda['Adj Close'] < hourly_nvda['lower_band'], 'signal'] = 1  # Buy signal\n",
        "hourly_nvda.loc[hourly_nvda['Adj Close'] > hourly_nvda['upper_band'], 'signal'] = -1 # Sell signal\n",
        "\n",
        "# Calculating returns as before\n",
        "hourly_nvda['returns'] = hourly_nvda['Adj Close'].pct_change()\n",
        "hourly_nvda['strategy_returns'] = hourly_nvda['signal'].shift(1) * hourly_nvda['returns']\n",
        "hourly_nvda['cumulative_strategy_returns'] = (1 + hourly_nvda['strategy_returns']).cumprod() - 1\n",
        "\n",
        "initial_capital = 100\n",
        "hourly_nvda['portfolio_value'] = (1 + hourly_nvda['strategy_returns']).cumprod() * initial_capital\n",
        "\n",
        "# Calculate and print metrics\n",
        "num_trades = hourly_nvda['signal'].abs().sum()\n",
        "final_capital = hourly_nvda['portfolio_value'].iloc[-1]\n",
        "total_return = (final_capital - initial_capital) / initial_capital * 100\n",
        "\n",
        "print(f\"Number of trades: {num_trades}\")\n",
        "print(f\"Initial capital: ${initial_capital}\")\n",
        "print(f\"Final capital: ${final_capital:.2f}\")\n",
        "print(f\"Total return: {total_return:.2f}%\")"
      ],
      "metadata": {
        "id": "hddjuoPcv0dq"
      },
      "execution_count": null,
      "outputs": []
    },
    {
      "cell_type": "code",
      "source": [
        "window = 20\n",
        "num_std_dev = 2\n",
        "\n",
        "# Calculate Middle Band\n",
        "hourly_nvda['middle_band'] = hourly_nvda['Adj Close'].rolling(window=window).mean()\n",
        "\n",
        "# Calculate Standard Deviation\n",
        "std_dev = hourly_nvda['Adj Close'].rolling(window=window).std()\n",
        "\n",
        "# Calculate Upper and Lower Bands\n",
        "hourly_nvda['upper_band'] = hourly_nvda['middle_band'] + (std_dev * num_std_dev)\n",
        "hourly_nvda['lower_band'] = hourly_nvda['middle_band'] - (std_dev * num_std_dev)\n",
        "\n",
        "# Generate signals\n",
        "hourly_nvda['signal'] = 0\n",
        "hourly_nvda.loc[hourly_nvda['Adj Close'] < hourly_nvda['lower_band'], 'signal'] = 1  # Buy\n",
        "hourly_nvda.loc[hourly_nvda['Adj Close'] > hourly_nvda['upper_band'], 'signal'] = -1  # Sell\n",
        "\n",
        "# Calculate returns\n",
        "hourly_nvda['returns'] = hourly_nvda['Adj Close'].pct_change()\n",
        "hourly_nvda['strategy_returns'] = hourly_nvda['signal'].shift(1) * hourly_nvda['returns']"
      ],
      "metadata": {
        "id": "1EcagBUawxAb"
      },
      "execution_count": null,
      "outputs": []
    },
    {
      "cell_type": "code",
      "source": [
        "# Plot the strategy\n",
        "plt.figure(figsize=(14, 7))\n",
        "\n",
        "plt.plot(hourly_nvda['Adj Close'], label='Close Price', alpha=0.5)\n",
        "plt.plot(hourly_nvda['middle_band'], label='Middle Band (20-SMA)', linestyle='--')\n",
        "plt.plot(hourly_nvda['upper_band'], label='Upper Band', linestyle='--')\n",
        "plt.plot(hourly_nvda['lower_band'], label='Lower Band', linestyle='--')\n",
        "\n",
        "# Highlight buy and sell signals\n",
        "plt.plot(hourly_nvda.loc[hourly_nvda['signal'] == 1].index,\n",
        "         hourly_nvda['lower_band'][hourly_nvda['signal'] == 1],\n",
        "         '^', markersize=10, color='g', lw=0, label='Buy Signal')\n",
        "\n",
        "plt.plot(hourly_nvda.loc[hourly_nvda['signal'] == -1].index,\n",
        "         hourly_nvda['upper_band'][hourly_nvda['signal'] == -1],\n",
        "         'v', markersize=10, color='r', lw=0, label='Sell Signal')\n",
        "\n",
        "plt.title('NVDA Hourly Close Price and Bollinger Bands')\n",
        "plt.xlabel('Date')\n",
        "plt.ylabel('Price')\n",
        "plt.legend()\n",
        "plt.show()"
      ],
      "metadata": {
        "id": "uL67sGEGwp6b"
      },
      "execution_count": null,
      "outputs": []
    },
    {
      "cell_type": "code",
      "source": [
        "buy_signals = hourly_nvda[hourly_nvda['signal'] == 1]\n",
        "sell_signals = hourly_nvda[hourly_nvda['signal'] == -1]"
      ],
      "metadata": {
        "id": "JsCEili_xHgE"
      },
      "execution_count": null,
      "outputs": []
    },
    {
      "cell_type": "code",
      "source": [
        "fig = go.Figure()\n",
        "\n",
        "# Add Close Price trace\n",
        "fig.add_trace(go.Scatter(x=hourly_nvda.index, y=hourly_nvda['Adj Close'], mode='lines', name='Close Price'))\n",
        "\n",
        "# Add Bollinger Bands traces\n",
        "fig.add_trace(go.Scatter(x=hourly_nvda.index, y=hourly_nvda['upper_band'], line=dict(color='rgba(250, 0, 0, 0.75)'), name='Upper Band'))\n",
        "fig.add_trace(go.Scatter(x=hourly_nvda.index, y=hourly_nvda['middle_band'], line=dict(color='rgba(0, 0, 250, 0.75)'), name='Middle Band'))\n",
        "fig.add_trace(go.Scatter(x=hourly_nvda.index, y=hourly_nvda['lower_band'], line=dict(color='rgba(250, 0, 0, 0.75)'), name='Lower Band', fill='tonexty', fillcolor='rgba(250, 0, 0, 0.2)'))\n",
        "\n",
        "# Add Buy signals trace\n",
        "fig.add_trace(go.Scatter(x=buy_signals.index, y=buy_signals['Adj Close'], mode='markers', marker=dict(color='Green', size=10, symbol='triangle-up'), name='Buy Signal'))\n",
        "\n",
        "# Add Sell signals trace\n",
        "fig.add_trace(go.Scatter(x=sell_signals.index, y=sell_signals['Adj Close'], mode='markers', marker=dict(color='Red', size=10, symbol='triangle-down'), name='Sell Signal'))\n",
        "\n",
        "# Update layout\n",
        "fig.update_layout(title='NVDA Hourly Close Price and Bollinger Bands', xaxis_title='Date', yaxis_title='Price', template='plotly_dark')\n",
        "\n",
        "fig.show()\n",
        "fig.write_html(\"nvda_bb.html\")"
      ],
      "metadata": {
        "id": "Fzo0Sb4tw-qz"
      },
      "execution_count": null,
      "outputs": []
    },
    {
      "cell_type": "code",
      "source": [
        "def calculate_supertrend(df, period=7, multiplier=3):\n",
        "    hl2 = (df['High'] + df['Low']) / 2\n",
        "    atr = 'ATR_' + str(period)\n",
        "    df[atr] = hl2.rolling(window=period).mean()\n",
        "    df[atr] = df[atr].fillna(method='bfill')\n",
        "\n",
        "    st = 'SuperTrend_' + str(period) + '_' + str(multiplier)\n",
        "    df[st] = 0.0\n",
        "\n",
        "    for i in range(1, len(df)):\n",
        "        if df['Close'][i] > df[st][i - 1]:\n",
        "            df[st][i] = hl2[i] + (multiplier * df[atr][i])\n",
        "        else:\n",
        "            df[st][i] = hl2[i] - (multiplier * df[atr][i])\n",
        "\n",
        "    df[st] = df[st].shift(1)\n",
        "    return df\n",
        "\n",
        "# Assuming 'hourly_nvda' is your DataFrame\n",
        "hourly_nvda = calculate_supertrend(hourly_nvda)\n",
        "\n",
        "# Generating signals\n",
        "hourly_nvda['signal'] = 0\n",
        "hourly_nvda.loc[hourly_nvda['Close'] > hourly_nvda['SuperTrend_7_3'], 'signal'] = 1\n",
        "hourly_nvda.loc[hourly_nvda['Close'] < hourly_nvda['SuperTrend_7_3'], 'signal'] = -1\n",
        "\n",
        "# Assuming you want to calculate returns similar to your RSI strategy:\n",
        "hourly_nvda['returns'] = hourly_nvda['Close'].pct_change()\n",
        "hourly_nvda['strategy_returns'] = hourly_nvda['signal'].shift(1) * hourly_nvda['returns']\n",
        "hourly_nvda['cumulative_strategy_returns'] = (1 + hourly_nvda['strategy_returns']).cumprod() - 1\n",
        "\n",
        "initial_capital = 100\n",
        "hourly_nvda['portfolio_value'] = (1 + hourly_nvda['strategy_returns']).cumprod() * initial_capital\n",
        "\n",
        "# Calculate and print metrics\n",
        "num_trades = hourly_nvda['signal'].abs().sum()\n",
        "final_capital = hourly_nvda['portfolio_value'].iloc[-1]\n",
        "total_return = (final_capital - initial_capital) / initial_capital * 100\n",
        "\n",
        "print(f\"Number of trades: {num_trades}\")\n",
        "print(f\"Initial capital: ${initial_capital}\")\n",
        "print(f\"Final capital: ${final_capital:.2f}\")\n",
        "print(f\"Total return: {total_return:.2f}%\")"
      ],
      "metadata": {
        "id": "2lfJ5w4Ix4HL"
      },
      "execution_count": null,
      "outputs": []
    },
    {
      "cell_type": "code",
      "source": [
        "n = 10  # Number of periods used to calculate momentum\n",
        "\n",
        "# Calculate momentum\n",
        "hourly_nvda['momentum'] = hourly_nvda['Adj Close'] - hourly_nvda['Adj Close'].shift(n)\n",
        "\n",
        "# Generate signals: buy (1) when momentum is positive, sell (-1) when negative\n",
        "hourly_nvda['signal'] = 0\n",
        "hourly_nvda.loc[hourly_nvda['momentum'] > 0, 'signal'] = 1\n",
        "hourly_nvda.loc[hourly_nvda['momentum'] < 0, 'signal'] = -1\n",
        "\n",
        "# Calculate daily returns\n",
        "hourly_nvda['returns'] = hourly_nvda['Adj Close'].pct_change()\n",
        "\n",
        "# Apply the strategy\n",
        "hourly_nvda['strategy_returns'] = hourly_nvda['signal'].shift(1) * hourly_nvda['returns']\n",
        "\n",
        "# Calculate cumulative returns of the strategy\n",
        "hourly_nvda['cumulative_strategy_returns'] = (1 + hourly_nvda['strategy_returns']).cumprod() - 1\n",
        "\n",
        "# Setting the initial capital to $100\n",
        "initial_capital = 100\n",
        "\n",
        "# Calculating total portfolio value\n",
        "hourly_nvda['portfolio_value'] = (1 + hourly_nvda['strategy_returns']).cumprod() * initial_capital\n",
        "\n",
        "# Printing the number of trades, initial capital, and final capital\n",
        "num_trades = hourly_nvda['signal'].abs().sum()\n",
        "final_capital = hourly_nvda['portfolio_value'].iloc[-1]\n",
        "total_return = (final_capital - initial_capital) / initial_capital * 100\n",
        "\n",
        "print('\\n')\n",
        "print(f\"Number of trades: {num_trades}\")\n",
        "print(f\"Initial capital: ${initial_capital}\")\n",
        "print(f\"Final capital: ${final_capital:.2f}\")\n",
        "print(f\"Total return: {total_return:.2f}%\")\n",
        "print('\\n')"
      ],
      "metadata": {
        "id": "Bxgd8mozyPDT"
      },
      "execution_count": null,
      "outputs": []
    },
    {
      "cell_type": "code",
      "source": [
        "# Parameters for the Greedy Strategy\n",
        "buy_threshold = 0.15  # 5% increase from previous day\n",
        "sell_threshold = -0.05  # 5% decrease from peak value after buying\n",
        "\n",
        "hourly_nvda['returns'] = hourly_nvda['Adj Close'].pct_change()\n",
        "hourly_nvda['signal'] = 0\n",
        "holding = False\n",
        "peak = None\n",
        "\n",
        "for i in range(1, len(hourly_nvda)):\n",
        "    if not holding:\n",
        "        # Buy if the stock increased by more than buy_threshold\n",
        "        if hourly_nvda['returns'].iloc[i] > buy_threshold:\n",
        "            hourly_nvda['signal'].iloc[i] = 1\n",
        "            holding = True\n",
        "            peak = hourly_nvda['Adj Close'].iloc[i]\n",
        "    else:\n",
        "        current_price = hourly_nvda['Adj Close'].iloc[i]\n",
        "        if current_price > peak:\n",
        "            peak = current_price\n",
        "        # Sell if the stock decreases by sell_threshold from its peak\n",
        "        if (current_price - peak) / peak < sell_threshold:\n",
        "            hourly_nvda['signal'].iloc[i] = -1\n",
        "            holding = False\n",
        "\n",
        "# Applying the strategy\n",
        "hourly_nvda['strategy_returns'] = hourly_nvda['signal'].shift(1) * hourly_nvda['returns']\n",
        "hourly_nvda['cumulative_strategy_returns'] = (1 + hourly_nvda['strategy_returns']).cumprod() - 1\n",
        "\n",
        "# Calculating performance\n",
        "initial_capital = 100\n",
        "hourly_nvda['portfolio_value'] = (1 + hourly_nvda['strategy_returns']).cumprod() * initial_capital\n",
        "num_trades = hourly_nvda['signal'].abs().sum()\n",
        "final_capital = hourly_nvda['portfolio_value'].iloc[-1]\n",
        "total_return = (final_capital - initial_capital) / initial_capital * 100\n",
        "\n",
        "print('\\n')\n",
        "print(f\"Number of trades: {num_trades}\")\n",
        "print(f\"Initial capital: ${initial_capital}\")\n",
        "print(f\"Final capital: ${final_capital:.2f}\")\n",
        "print(f\"Total return: {total_return:.2f}%\")\n",
        "print('\\n')"
      ],
      "metadata": {
        "id": "TkDJYb3Xyqhc"
      },
      "execution_count": null,
      "outputs": []
    },
    {
      "cell_type": "code",
      "source": [
        "# Plot the adjusted close price\n",
        "fig = go.Figure()\n",
        "fig.add_trace(go.Scatter(x=hourly_nvda.index, y=hourly_nvda['Adj Close'], mode='lines', name='Adj Close'))\n",
        "\n",
        "# Highlight buy signals\n",
        "buy_signals = hourly_nvda[hourly_nvda['signal'] == 1]\n",
        "fig.add_trace(go.Scatter(x=buy_signals.index, y=buy_signals['Adj Close'], mode='markers', marker=dict(color='Green', size=10, symbol='triangle-up'), name='Buy'))\n",
        "\n",
        "# Highlight sell signals\n",
        "sell_signals = hourly_nvda[hourly_nvda['signal'] == -1]\n",
        "fig.add_trace(go.Scatter(x=sell_signals.index, y=sell_signals['Adj Close'], mode='markers', marker=dict(color='Red', size=10, symbol='triangle-down'), name='Sell'))\n",
        "\n",
        "# Optionally, add a trace for portfolio value if you want to visualize how the strategy's performance evolves over time\n",
        "fig.add_trace(go.Scatter(x=hourly_nvda.index, y=hourly_nvda['portfolio_value'], mode='lines', name='Portfolio Value'))\n",
        "\n",
        "fig.update_layout(title='Greedy Strategy: NVDA Hourly Trading Signals', xaxis_title='Date', yaxis_title='Price', template='plotly_dark')\n",
        "fig.show()\n",
        "fig.write_html(\"nvda_greedy.html\")"
      ],
      "metadata": {
        "id": "3I9MTNOYzED9"
      },
      "execution_count": null,
      "outputs": []
    },
    {
      "cell_type": "code",
      "source": [
        "hourly_nvda"
      ],
      "metadata": {
        "id": "HTX5X1YEzyA1"
      },
      "execution_count": null,
      "outputs": []
    },
    {
      "cell_type": "code",
      "source": [
        "short_window = 50\n",
        "long_window = 200\n",
        "\n",
        "# Calculate the moving averages\n",
        "hourly_nvda['short_mavg'] = hourly_nvda['Adj Close'].rolling(window=short_window, min_periods=1).mean()\n",
        "hourly_nvda['long_mavg'] = hourly_nvda['Adj Close'].rolling(window=long_window, min_periods=1).mean()\n",
        "\n",
        "# Generate signals\n",
        "hourly_nvda['signal'] = 0\n",
        "# Buy signal\n",
        "hourly_nvda.loc[hourly_nvda['short_mavg'] > hourly_nvda['long_mavg'], 'signal'] = 1\n",
        "# Sell signal\n",
        "hourly_nvda.loc[hourly_nvda['short_mavg'] < hourly_nvda['long_mavg'], 'signal'] = -1\n",
        "\n",
        "# Calculate daily returns\n",
        "hourly_nvda['returns'] = hourly_nvda['Adj Close'].pct_change()\n",
        "\n",
        "# Apply the strategy\n",
        "hourly_nvda['strategy_returns'] = hourly_nvda['signal'].shift(1) * hourly_nvda['returns']\n",
        "\n",
        "# Calculate cumulative returns of the strategy\n",
        "hourly_nvda['cumulative_strategy_returns'] = (1 + hourly_nvda['strategy_returns']).cumprod() - 1\n",
        "\n",
        "# Setting the initial capital to $100\n",
        "initial_capital = 100\n",
        "\n",
        "# Calculating total portfolio value\n",
        "hourly_nvda['portfolio_value'] = (1 + hourly_nvda['strategy_returns']).cumprod() * initial_capital\n",
        "\n",
        "# Printing the results\n",
        "num_trades = hourly_nvda['signal'].abs().sum()\n",
        "final_capital = hourly_nvda['portfolio_value'].iloc[-1]\n",
        "total_return = (final_capital - initial_capital) / initial_capital * 100\n",
        "\n",
        "print('\\n')\n",
        "print(f\"Number of trades: {num_trades}\")\n",
        "print(f\"Initial capital: ${initial_capital}\")\n",
        "print(f\"Final capital: ${final_capital:.2f}\")\n",
        "print(f\"Total return: {total_return:.2f}%\")\n",
        "print('\\n')"
      ],
      "metadata": {
        "id": "EXf88iN51GvG"
      },
      "execution_count": null,
      "outputs": []
    },
    {
      "cell_type": "code",
      "source": [
        "\n",
        "# Calculate moving averages\n",
        "short_window = 20\n",
        "long_window = 50\n",
        "hourly_nvda['short_mavg'] = hourly_nvda['Adj Close'].rolling(window=short_window, min_periods=1).mean()\n",
        "hourly_nvda['long_mavg'] = hourly_nvda['Adj Close'].rolling(window=long_window, min_periods=1).mean()\n",
        "\n",
        "# Generate signals\n",
        "hourly_nvda['signal'] = 0\n",
        "hourly_nvda['signal'][short_window:] = np.where(hourly_nvda['short_mavg'][short_window:] > hourly_nvda['long_mavg'][short_window:], 1, 0)\n",
        "hourly_nvda['positions'] = hourly_nvda['signal'].diff()\n",
        "\n",
        "# Plotting\n",
        "fig = go.Figure()\n",
        "\n",
        "# Plot Adjusted Closing Price and Moving Averages\n",
        "fig.add_trace(go.Scatter(x=hourly_nvda.index, y=hourly_nvda['Adj Close'], mode='lines', name='Adj Close', line=dict(color='blue')))\n",
        "fig.add_trace(go.Scatter(x=hourly_nvda.index, y=hourly_nvda['short_mavg'], mode='lines', name=f'Short {short_window}-SMA', line=dict(color='red')))\n",
        "fig.add_trace(go.Scatter(x=hourly_nvda.index, y=hourly_nvda['long_mavg'], mode='lines', name=f'Long {long_window}-SMA', line=dict(color='green')))\n",
        "\n",
        "# Highlight Buy signals\n",
        "fig.add_trace(go.Scatter(x=hourly_nvda[hourly_nvda['positions'] == 1].index,\n",
        "                         y=hourly_nvda['short_mavg'][hourly_nvda['positions'] == 1],\n",
        "                         mode='markers', marker_symbol='triangle-up', marker_line_color=\"green\", marker_color=\"green\",\n",
        "                         marker_line_width=2, marker_size=10, name='Buy Signal'))\n",
        "\n",
        "# Highlight Sell signals\n",
        "fig.add_trace(go.Scatter(x=hourly_nvda[hourly_nvda['positions'] == -1].index,\n",
        "                         y=hourly_nvda['short_mavg'][hourly_nvda['positions'] == -1],\n",
        "                         mode='markers', marker_symbol='triangle-down', marker_line_color=\"red\", marker_color=\"red\",\n",
        "                         marker_line_width=2, marker_size=10, name='Sell Signal'))\n",
        "\n",
        "# Update layout\n",
        "fig.update_layout(title='NVDA Trend Following Strategy', xaxis_title='Date', yaxis_title='Price', template='plotly_dark')\n",
        "\n",
        "fig.show()\n",
        "fig.write_html(\"nvda_trend.html\")\n"
      ],
      "metadata": {
        "id": "7KSCK-TU1xtp"
      },
      "execution_count": null,
      "outputs": []
    },
    {
      "cell_type": "code",
      "source": [
        "breakout_window = 20\n",
        "\n",
        "# Calculate the rolling max and min for the breakout window\n",
        "hourly_nvda['20_day_high'] = hourly_nvda['Adj Close'].rolling(window=breakout_window).max()\n",
        "hourly_nvda['20_day_low'] = hourly_nvda['Adj Close'].rolling(window=breakout_window).min()\n",
        "\n",
        "# Generate signals\n",
        "# Buy signal when the close price breaks above the 20-day high\n",
        "hourly_nvda['signal'] = 0\n",
        "hourly_nvda.loc[hourly_nvda['Adj Close'] > hourly_nvda['20_day_high'].shift(1), 'signal'] = 1\n",
        "\n",
        "# Sell signal when the close price breaks below the 20-day low\n",
        "hourly_nvda.loc[hourly_nvda['Adj Close'] < hourly_nvda['20_day_low'].shift(1), 'signal'] = -1\n",
        "\n",
        "# Assuming you will close your position at the next signal, calculate the returns\n",
        "hourly_nvda['returns'] = hourly_nvda['Adj Close'].pct_change()\n",
        "hourly_nvda['strategy_returns'] = hourly_nvda['signal'].shift(1) * hourly_nvda['returns']\n",
        "hourly_nvda['cumulative_strategy_returns'] = (1 + hourly_nvda['strategy_returns']).cumprod() - 1\n",
        "\n",
        "# Calculate initial capital and final portfolio value\n",
        "initial_capital = 100\n",
        "hourly_nvda['portfolio_value'] = (1 + hourly_nvda['strategy_returns']).cumprod() * initial_capital\n",
        "final_capital = hourly_nvda['portfolio_value'].iloc[-1]\n",
        "total_return = (final_capital - initial_capital) / initial_capital * 100\n",
        "\n",
        "# Print results\n",
        "print(f\"Number of trades: {hourly_nvda['signal'].abs().sum()}\")\n",
        "print(f\"Initial capital: ${initial_capital}\")\n",
        "print(f\"Final capital: ${final_capital:.2f}\")\n",
        "print(f\"Total return: {total_return:.2f}%\")"
      ],
      "metadata": {
        "id": "Bfxy89822itj"
      },
      "execution_count": null,
      "outputs": []
    },
    {
      "cell_type": "code",
      "source": [
        "import plotly.graph_objects as go\n",
        "\n",
        "# Plot the adjusted close price\n",
        "fig = go.Figure()\n",
        "fig.add_trace(go.Scatter(x=hourly_nvda.index, y=hourly_nvda['Adj Close'], mode='lines', name='Adj Close', line=dict(color='blue')))\n",
        "\n",
        "# Highlight the 20-day high and low as the breakout levels\n",
        "fig.add_trace(go.Scatter(x=hourly_nvda.index, y=hourly_nvda['20_day_high'], mode='lines', name='20-Day High', line=dict(color='red', dash='dot')))\n",
        "fig.add_trace(go.Scatter(x=hourly_nvda.index, y=hourly_nvda['20_day_low'], mode='lines', name='20-Day Low', line=dict(color='green', dash='dot')))\n",
        "\n",
        "# Mark buy signals\n",
        "buy_signals = hourly_nvda[hourly_nvda['signal'] == 1]\n",
        "fig.add_trace(go.Scatter(x=buy_signals.index, y=buy_signals['Adj Close'], mode='markers', marker_symbol='triangle-up', marker_line_color=\"green\", marker_color=\"green\", marker_line_width=2, marker_size=10, name='Buy Signal'))\n",
        "\n",
        "# Mark sell signals\n",
        "sell_signals = hourly_nvda[hourly_nvda['signal'] == -1]\n",
        "fig.add_trace(go.Scatter(x=sell_signals.index, y=sell_signals['Adj Close'], mode='markers', marker_symbol='triangle-down', marker_line_color=\"red\", marker_color=\"red\", marker_line_width=2, marker_size=10, name='Sell Signal'))\n",
        "\n",
        "# Update layout\n",
        "fig.update_layout(title='NVDA Breakout Strategy Visualization', xaxis_title='Date', yaxis_title='Price', template='plotly_dark')\n",
        "\n",
        "fig.show()\n",
        "fig.write_html('nvda_breakout.html')"
      ],
      "metadata": {
        "id": "Nod1c05X2zgg"
      },
      "execution_count": null,
      "outputs": []
    },
    {
      "cell_type": "code",
      "source": [
        "# Calculate moving averages for the trend-following component\n",
        "short_window = 20\n",
        "long_window = 50\n",
        "hourly_nvda['short_mavg'] = hourly_nvda['Adj Close'].rolling(window=short_window, min_periods=1).mean()\n",
        "hourly_nvda['long_mavg'] = hourly_nvda['Adj Close'].rolling(window=long_window, min_periods=1).mean()\n",
        "\n",
        "# Identify the trend direction\n",
        "hourly_nvda['trend'] = 0\n",
        "hourly_nvda.loc[hourly_nvda['short_mavg'] > hourly_nvda['long_mavg'], 'trend'] = 1\n",
        "hourly_nvda.loc[hourly_nvda['short_mavg'] < hourly_nvda['long_mavg'], 'trend'] = -1\n",
        "\n",
        "# Calculate the 20-day high and low for the breakout component\n",
        "hourly_nvda['20_day_high'] = hourly_nvda['Adj Close'].rolling(window=20).max()\n",
        "hourly_nvda['20_day_low'] = hourly_nvda['Adj Close'].rolling(window=20).min()\n",
        "\n",
        "# Initialize the signal column\n",
        "hourly_nvda['signal'] = 0\n",
        "\n",
        "# Generate combined signals\n",
        "# Buy signal: If price breaks above 20-day high and the trend is positive\n",
        "hourly_nvda.loc[(hourly_nvda['Adj Close'] > hourly_nvda['20_day_high'].shift(1)) & (hourly_nvda['trend'] == 1), 'signal'] = 1\n",
        "\n",
        "# Sell signal: If price breaks below 20-day low and the trend is negative\n",
        "hourly_nvda.loc[(hourly_nvda['Adj Close'] < hourly_nvda['20_day_low'].shift(1)) & (hourly_nvda['trend'] == -1), 'signal'] = -1\n",
        "\n",
        "# Calculate strategy returns\n",
        "hourly_nvda['returns'] = hourly_nvda['Adj Close'].pct_change()\n",
        "hourly_nvda['strategy_returns'] = hourly_nvda['signal'].shift(1) * hourly_nvda['returns']\n",
        "hourly_nvda['cumulative_strategy_returns'] = (1 + hourly_nvda['strategy_returns']).cumprod() - 1\n",
        "\n",
        "# Calculate initial capital and final portfolio value\n",
        "initial_capital = 100\n",
        "hourly_nvda['portfolio_value'] = (1 + hourly_nvda['strategy_returns']).cumprod() * initial_capital\n",
        "final_capital = hourly_nvda['portfolio_value'].iloc[-1]\n",
        "total_return = (final_capital - initial_capital) / initial_capital * 100\n",
        "\n",
        "# Print results\n",
        "print(f\"Number of trades: {hourly_nvda['signal'].abs().sum()}\")\n",
        "print(f\"Initial capital: ${initial_capital}\")\n",
        "print(f\"Final capital: ${final_capital:.2f}\")\n",
        "print(f\"Total return: {total_return:.2f}%\")"
      ],
      "metadata": {
        "id": "IMVRpLgB2_v6"
      },
      "execution_count": null,
      "outputs": []
    }
  ]
}